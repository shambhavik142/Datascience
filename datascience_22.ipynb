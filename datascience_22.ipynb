{
 "cells": [
  {
   "cell_type": "markdown",
   "metadata": {},
   "source": [
    "## NLTK"
   ]
  },
  {
   "cell_type": "code",
   "execution_count": 48,
   "metadata": {
    "collapsed": true
   },
   "outputs": [],
   "source": [
    "import nltk"
   ]
  },
  {
   "cell_type": "code",
   "execution_count": 49,
   "metadata": {},
   "outputs": [
    {
     "name": "stdout",
     "output_type": "stream",
     "text": [
      "[nltk_data] Downloading package punkt to\n",
      "[nltk_data]     C:\\Users\\Shambhavi\\AppData\\Roaming\\nltk_data...\n",
      "[nltk_data]   Package punkt is already up-to-date!\n"
     ]
    },
    {
     "data": {
      "text/plain": [
       "True"
      ]
     },
     "execution_count": 49,
     "metadata": {},
     "output_type": "execute_result"
    }
   ],
   "source": [
    "nltk.download('punkt')   #punctuations\n"
   ]
  },
  {
   "cell_type": "code",
   "execution_count": 50,
   "metadata": {},
   "outputs": [
    {
     "name": "stdout",
     "output_type": "stream",
     "text": [
      "['Hello Miss.', 'Swathi ,how are you doing today?', 'Today the weather is great.', 'Good Morning']\n"
     ]
    }
   ],
   "source": [
    "from nltk.tokenize import sent_tokenize\n",
    "text=\"Hello Miss. Swathi ,how are you doing today? Today the weather is great. Good Morning\"\n",
    "tokenized_text=sent_tokenize(text)\n",
    "print(tokenized_text)"
   ]
  },
  {
   "cell_type": "code",
   "execution_count": 51,
   "metadata": {
    "collapsed": true
   },
   "outputs": [],
   "source": [
    "#types of tokenization:\n",
    "#    sentence and word"
   ]
  },
  {
   "cell_type": "code",
   "execution_count": 52,
   "metadata": {},
   "outputs": [
    {
     "name": "stdout",
     "output_type": "stream",
     "text": [
      "['Hello', 'Miss', '.', 'Swathi', ',', 'how', 'are', 'you', 'doing', 'today', '?', 'Today', 'the', 'weather', 'is', 'great', '.', 'Good', 'Morning']\n"
     ]
    }
   ],
   "source": [
    "from nltk.tokenize import word_tokenize\n",
    "tokenize_word=word_tokenize(text)\n",
    "print(tokenize_word)"
   ]
  },
  {
   "cell_type": "markdown",
   "metadata": {},
   "source": [
    "#### Converting to Lowercase"
   ]
  },
  {
   "cell_type": "code",
   "execution_count": 53,
   "metadata": {},
   "outputs": [
    {
     "name": "stdout",
     "output_type": "stream",
     "text": [
      "['hello', 'miss', '.', 'swathi', ',', 'how', 'are', 'you', 'doing', 'today', '?', 'today', 'the', 'weather', 'is', 'great', '.', 'good', 'morning']\n"
     ]
    }
   ],
   "source": [
    "tokens=[w.lower() for w in tokenize_word]\n",
    "print(tokens)"
   ]
  },
  {
   "cell_type": "markdown",
   "metadata": {},
   "source": [
    "#### Remove Noise"
   ]
  },
  {
   "cell_type": "code",
   "execution_count": 54,
   "metadata": {},
   "outputs": [],
   "source": [
    "not_required=['doing']\n",
    "def noise_removal(text):\n",
    "    words=text.split()\n",
    "    final_text=[word for word in words if word not in not_required]\n",
    "    final_text=\" \".join(final_text)\n",
    "    return final_text\n",
    "\n"
   ]
  },
  {
   "cell_type": "code",
   "execution_count": 55,
   "metadata": {},
   "outputs": [
    {
     "data": {
      "text/plain": [
       "'Hello Miss. Swathi ,how are you today? Today the weather is great. Good Morning'"
      ]
     },
     "execution_count": 55,
     "metadata": {},
     "output_type": "execute_result"
    }
   ],
   "source": [
    "noise_removal(text)"
   ]
  },
  {
   "cell_type": "markdown",
   "metadata": {},
   "source": [
    "### Punctuation removal"
   ]
  },
  {
   "cell_type": "code",
   "execution_count": 56,
   "metadata": {},
   "outputs": [
    {
     "name": "stdout",
     "output_type": "stream",
     "text": [
      "['hello', 'miss', 'swathi', 'how', 'are', 'you', 'doing', 'today', 'today', 'the', 'weather', 'is', 'great', 'good', 'morning']\n"
     ]
    }
   ],
   "source": [
    "words=[word for word in tokens if word.isalpha()]\n",
    "print(words)"
   ]
  },
  {
   "cell_type": "markdown",
   "metadata": {},
   "source": [
    "### Removal of stop words"
   ]
  },
  {
   "cell_type": "code",
   "execution_count": 57,
   "metadata": {},
   "outputs": [
    {
     "name": "stdout",
     "output_type": "stream",
     "text": [
      "[nltk_data] Downloading package stopwords to\n",
      "[nltk_data]     C:\\Users\\Shambhavi\\AppData\\Roaming\\nltk_data...\n",
      "[nltk_data]   Package stopwords is already up-to-date!\n"
     ]
    },
    {
     "data": {
      "text/plain": [
       "True"
      ]
     },
     "execution_count": 57,
     "metadata": {},
     "output_type": "execute_result"
    }
   ],
   "source": [
    "nltk.download('stopwords')"
   ]
  },
  {
   "cell_type": "code",
   "execution_count": 58,
   "metadata": {},
   "outputs": [
    {
     "name": "stdout",
     "output_type": "stream",
     "text": [
      "{'we', 'the', 'through', 'here', 'doing', 'shan', \"couldn't\", 'hasn', 'shouldn', 'haven', 'off', 'such', 'your', 'than', \"aren't\", 'y', 'm', 'further', 'can', 'same', 'why', 'too', 'into', \"she's\", 'after', 'until', 'each', 'my', 'now', 'them', 'ma', 'once', 'as', 'aren', 'at', 'when', 'was', 'be', 'while', 'him', \"isn't\", 'below', 'there', 'above', 'in', 'being', 'of', 'no', 'but', 'am', 'having', 'itself', 'myself', 'me', 'is', 'by', 'did', 'where', \"shouldn't\", 'needn', 'this', 'both', 'which', 'she', 'a', 'on', 'don', 'mightn', \"should've\", 'won', \"it's\", 'very', 'those', 'before', 'whom', 'hers', \"haven't\", 'nor', \"won't\", 'most', 'themselves', 'only', 'these', 'they', 'who', 'an', 'under', 'didn', 'yourself', 'doesn', 'and', 'mustn', \"wasn't\", 'himself', 'ourselves', 'their', 'theirs', 'o', 'are', 'isn', 'just', \"mustn't\", 'herself', 'have', 's', 'he', 'that', 'other', \"hadn't\", 'own', 'yourselves', 'her', \"needn't\", 'do', 'will', \"doesn't\", 'll', 're', \"weren't\", 'weren', 'd', 'then', 'our', 'you', \"you've\", 'ours', \"that'll\", \"shan't\", 've', \"didn't\", 'does', 'were', 'not', \"you'd\", \"you're\", 'what', 'between', 'it', 'so', 'some', 'yours', 'i', 'how', 'ain', 'wasn', \"don't\", 'should', 'about', 'with', 'down', \"wouldn't\", 'couldn', 'hadn', 'wouldn', 'during', 'from', 'against', 'its', 'because', 'for', 'out', 'his', 'over', 'or', 't', \"you'll\", 'all', 'if', 'had', 'more', 'again', \"mightn't\", 'up', \"hasn't\", 'has', 'few', 'been', 'any', 'to'}\n"
     ]
    }
   ],
   "source": [
    "from nltk.corpus import stopwords\n",
    "stop_words=set(stopwords.words(\"english\"))\n",
    "print(stop_words)"
   ]
  },
  {
   "cell_type": "code",
   "execution_count": 59,
   "metadata": {},
   "outputs": [
    {
     "name": "stdout",
     "output_type": "stream",
     "text": [
      "['hello', 'miss', 'swathi', 'today', 'today', 'weather', 'great', 'good', 'morning']\n"
     ]
    }
   ],
   "source": [
    "words=[word for word in words if  not word in stop_words]\n",
    "print(words)"
   ]
  },
  {
   "cell_type": "markdown",
   "metadata": {},
   "source": [
    "### Stemming"
   ]
  },
  {
   "cell_type": "code",
   "execution_count": 60,
   "metadata": {},
   "outputs": [
    {
     "name": "stdout",
     "output_type": "stream",
     "text": [
      "filtered sentence Hello Miss. Swathi ,how are you doing today? Today the weather is great. Good Morning\n",
      "stemmed sentence ['hello', 'miss', 'swathi', 'today', 'today', 'weather', 'great', 'good', 'morn']\n"
     ]
    }
   ],
   "source": [
    "from nltk.stem import PorterStemmer\n",
    "\n",
    "ps=PorterStemmer()\n",
    "stemmed_words=[]\n",
    "for w in words:\n",
    "    stemmed_words.append(ps.stem(w))\n",
    "print(\"filtered sentence\",text)\n",
    "print(\"stemmed sentence\",stemmed_words)\n"
   ]
  },
  {
   "cell_type": "code",
   "execution_count": 65,
   "metadata": {},
   "outputs": [
    {
     "name": "stdout",
     "output_type": "stream",
     "text": [
      "[nltk_data] Downloading package wordnet to\n",
      "[nltk_data]     C:\\Users\\Shambhavi\\AppData\\Roaming\\nltk_data...\n",
      "[nltk_data]   Package wordnet is already up-to-date!\n"
     ]
    }
   ],
   "source": [
    "nltk.download('wordnet')\n",
    "from nltk.stem.wordnet import WordNetLemmatizer\n",
    "lem=WordNetLemmatizer()"
   ]
  },
  {
   "cell_type": "code",
   "execution_count": 66,
   "metadata": {},
   "outputs": [
    {
     "name": "stdout",
     "output_type": "stream",
     "text": [
      "Lemmatized word fly\n",
      "stemmed word  fli\n"
     ]
    }
   ],
   "source": [
    "from nltk.stem.porter import PorterStemmer\n",
    "stem=PorterStemmer()\n",
    "word=\"flying\"\n",
    "\n",
    "print(\"Lemmatized word\",lem.lemmatize(word,'v'))\n",
    "print(\"stemmed word \",stem.stem(word))"
   ]
  },
  {
   "cell_type": "code",
   "execution_count": null,
   "metadata": {
    "collapsed": true
   },
   "outputs": [],
   "source": [
    " "
   ]
  }
 ],
 "metadata": {
  "kernelspec": {
   "display_name": "Python 3",
   "language": "python",
   "name": "python3"
  },
  "language_info": {
   "codemirror_mode": {
    "name": "ipython",
    "version": 3
   },
   "file_extension": ".py",
   "mimetype": "text/x-python",
   "name": "python",
   "nbconvert_exporter": "python",
   "pygments_lexer": "ipython3",
   "version": "3.6.3"
  }
 },
 "nbformat": 4,
 "nbformat_minor": 2
}
