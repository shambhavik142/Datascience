{
 "cells": [
  {
   "cell_type": "markdown",
   "metadata": {},
   "source": [
    "## Naive Bayes Theorem"
   ]
  },
  {
   "cell_type": "code",
   "execution_count": 2,
   "metadata": {
    "collapsed": true
   },
   "outputs": [],
   "source": [
    "# works on conditional probability"
   ]
  },
  {
   "cell_type": "code",
   "execution_count": 3,
   "metadata": {
    "collapsed": true
   },
   "outputs": [],
   "source": [
    "#P(H/E)= (P(E/H).P(H))/P(E)\n",
    "# finding post area probability using prior probability before getting evidence"
   ]
  },
  {
   "cell_type": "code",
   "execution_count": 4,
   "metadata": {
    "collapsed": true
   },
   "outputs": [],
   "source": [
    "# all features are independent"
   ]
  },
  {
   "cell_type": "code",
   "execution_count": 5,
   "metadata": {
    "collapsed": true
   },
   "outputs": [],
   "source": [
    "import numpy as np\n",
    "import pandas as pd\n",
    "import matplotlib.pyplot as plt\n",
    "import seaborn as sb\n",
    "% matplotlib inline"
   ]
  },
  {
   "cell_type": "code",
   "execution_count": 6,
   "metadata": {
    "collapsed": true
   },
   "outputs": [],
   "source": [
    "dataset=pd.read_csv(r'C:/Users/Shambhavi/Downloads/datasets/purchase_salary.csv')"
   ]
  },
  {
   "cell_type": "code",
   "execution_count": 7,
   "metadata": {},
   "outputs": [
    {
     "data": {
      "text/html": [
       "<div>\n",
       "<style scoped>\n",
       "    .dataframe tbody tr th:only-of-type {\n",
       "        vertical-align: middle;\n",
       "    }\n",
       "\n",
       "    .dataframe tbody tr th {\n",
       "        vertical-align: top;\n",
       "    }\n",
       "\n",
       "    .dataframe thead th {\n",
       "        text-align: right;\n",
       "    }\n",
       "</style>\n",
       "<table border=\"1\" class=\"dataframe\">\n",
       "  <thead>\n",
       "    <tr style=\"text-align: right;\">\n",
       "      <th></th>\n",
       "      <th>User ID</th>\n",
       "      <th>Gender</th>\n",
       "      <th>Age</th>\n",
       "      <th>EstimatedSalary</th>\n",
       "      <th>Purchased</th>\n",
       "    </tr>\n",
       "  </thead>\n",
       "  <tbody>\n",
       "    <tr>\n",
       "      <th>0</th>\n",
       "      <td>15624510</td>\n",
       "      <td>Male</td>\n",
       "      <td>19</td>\n",
       "      <td>19000</td>\n",
       "      <td>0</td>\n",
       "    </tr>\n",
       "    <tr>\n",
       "      <th>1</th>\n",
       "      <td>15810944</td>\n",
       "      <td>Male</td>\n",
       "      <td>35</td>\n",
       "      <td>20000</td>\n",
       "      <td>0</td>\n",
       "    </tr>\n",
       "    <tr>\n",
       "      <th>2</th>\n",
       "      <td>15668575</td>\n",
       "      <td>Female</td>\n",
       "      <td>26</td>\n",
       "      <td>43000</td>\n",
       "      <td>0</td>\n",
       "    </tr>\n",
       "    <tr>\n",
       "      <th>3</th>\n",
       "      <td>15603246</td>\n",
       "      <td>Female</td>\n",
       "      <td>27</td>\n",
       "      <td>57000</td>\n",
       "      <td>0</td>\n",
       "    </tr>\n",
       "    <tr>\n",
       "      <th>4</th>\n",
       "      <td>15804002</td>\n",
       "      <td>Male</td>\n",
       "      <td>19</td>\n",
       "      <td>76000</td>\n",
       "      <td>0</td>\n",
       "    </tr>\n",
       "  </tbody>\n",
       "</table>\n",
       "</div>"
      ],
      "text/plain": [
       "    User ID  Gender  Age  EstimatedSalary  Purchased\n",
       "0  15624510    Male   19            19000          0\n",
       "1  15810944    Male   35            20000          0\n",
       "2  15668575  Female   26            43000          0\n",
       "3  15603246  Female   27            57000          0\n",
       "4  15804002    Male   19            76000          0"
      ]
     },
     "execution_count": 7,
     "metadata": {},
     "output_type": "execute_result"
    }
   ],
   "source": [
    "dataset.head()\n"
   ]
  },
  {
   "cell_type": "code",
   "execution_count": 8,
   "metadata": {},
   "outputs": [
    {
     "name": "stdout",
     "output_type": "stream",
     "text": [
      "<class 'pandas.core.frame.DataFrame'>\n",
      "RangeIndex: 400 entries, 0 to 399\n",
      "Data columns (total 5 columns):\n",
      "User ID            400 non-null int64\n",
      "Gender             400 non-null object\n",
      "Age                400 non-null int64\n",
      "EstimatedSalary    400 non-null int64\n",
      "Purchased          400 non-null int64\n",
      "dtypes: int64(4), object(1)\n",
      "memory usage: 15.7+ KB\n"
     ]
    }
   ],
   "source": [
    "dataset.info()"
   ]
  },
  {
   "cell_type": "code",
   "execution_count": 9,
   "metadata": {},
   "outputs": [
    {
     "data": {
      "text/plain": [
       "User ID           -1.182359\n",
       "Age               -0.622513\n",
       "EstimatedSalary   -0.405878\n",
       "Purchased         -1.651992\n",
       "dtype: float64"
      ]
     },
     "execution_count": 9,
     "metadata": {},
     "output_type": "execute_result"
    }
   ],
   "source": [
    "dataset.kurt()"
   ]
  },
  {
   "cell_type": "code",
   "execution_count": 10,
   "metadata": {},
   "outputs": [
    {
     "data": {
      "text/html": [
       "<div>\n",
       "<style scoped>\n",
       "    .dataframe tbody tr th:only-of-type {\n",
       "        vertical-align: middle;\n",
       "    }\n",
       "\n",
       "    .dataframe tbody tr th {\n",
       "        vertical-align: top;\n",
       "    }\n",
       "\n",
       "    .dataframe thead th {\n",
       "        text-align: right;\n",
       "    }\n",
       "</style>\n",
       "<table border=\"1\" class=\"dataframe\">\n",
       "  <thead>\n",
       "    <tr style=\"text-align: right;\">\n",
       "      <th></th>\n",
       "      <th>User ID</th>\n",
       "      <th>Age</th>\n",
       "      <th>EstimatedSalary</th>\n",
       "      <th>Purchased</th>\n",
       "    </tr>\n",
       "  </thead>\n",
       "  <tbody>\n",
       "    <tr>\n",
       "      <th>count</th>\n",
       "      <td>4.000000e+02</td>\n",
       "      <td>400.000000</td>\n",
       "      <td>400.000000</td>\n",
       "      <td>400.000000</td>\n",
       "    </tr>\n",
       "    <tr>\n",
       "      <th>mean</th>\n",
       "      <td>1.569154e+07</td>\n",
       "      <td>37.655000</td>\n",
       "      <td>69742.500000</td>\n",
       "      <td>0.357500</td>\n",
       "    </tr>\n",
       "    <tr>\n",
       "      <th>std</th>\n",
       "      <td>7.165832e+04</td>\n",
       "      <td>10.482877</td>\n",
       "      <td>34096.960282</td>\n",
       "      <td>0.479864</td>\n",
       "    </tr>\n",
       "    <tr>\n",
       "      <th>min</th>\n",
       "      <td>1.556669e+07</td>\n",
       "      <td>18.000000</td>\n",
       "      <td>15000.000000</td>\n",
       "      <td>0.000000</td>\n",
       "    </tr>\n",
       "    <tr>\n",
       "      <th>25%</th>\n",
       "      <td>1.562676e+07</td>\n",
       "      <td>29.750000</td>\n",
       "      <td>43000.000000</td>\n",
       "      <td>0.000000</td>\n",
       "    </tr>\n",
       "    <tr>\n",
       "      <th>50%</th>\n",
       "      <td>1.569434e+07</td>\n",
       "      <td>37.000000</td>\n",
       "      <td>70000.000000</td>\n",
       "      <td>0.000000</td>\n",
       "    </tr>\n",
       "    <tr>\n",
       "      <th>75%</th>\n",
       "      <td>1.575036e+07</td>\n",
       "      <td>46.000000</td>\n",
       "      <td>88000.000000</td>\n",
       "      <td>1.000000</td>\n",
       "    </tr>\n",
       "    <tr>\n",
       "      <th>max</th>\n",
       "      <td>1.581524e+07</td>\n",
       "      <td>60.000000</td>\n",
       "      <td>150000.000000</td>\n",
       "      <td>1.000000</td>\n",
       "    </tr>\n",
       "  </tbody>\n",
       "</table>\n",
       "</div>"
      ],
      "text/plain": [
       "            User ID         Age  EstimatedSalary   Purchased\n",
       "count  4.000000e+02  400.000000       400.000000  400.000000\n",
       "mean   1.569154e+07   37.655000     69742.500000    0.357500\n",
       "std    7.165832e+04   10.482877     34096.960282    0.479864\n",
       "min    1.556669e+07   18.000000     15000.000000    0.000000\n",
       "25%    1.562676e+07   29.750000     43000.000000    0.000000\n",
       "50%    1.569434e+07   37.000000     70000.000000    0.000000\n",
       "75%    1.575036e+07   46.000000     88000.000000    1.000000\n",
       "max    1.581524e+07   60.000000    150000.000000    1.000000"
      ]
     },
     "execution_count": 10,
     "metadata": {},
     "output_type": "execute_result"
    }
   ],
   "source": [
    "dataset.describe()"
   ]
  },
  {
   "cell_type": "code",
   "execution_count": 11,
   "metadata": {},
   "outputs": [
    {
     "data": {
      "text/plain": [
       "(400, 5)"
      ]
     },
     "execution_count": 11,
     "metadata": {},
     "output_type": "execute_result"
    }
   ],
   "source": [
    "dataset.shape"
   ]
  },
  {
   "cell_type": "code",
   "execution_count": 12,
   "metadata": {
    "collapsed": true
   },
   "outputs": [],
   "source": [
    "X=dataset.iloc[:,[2,3]].values\n",
    "y=dataset.iloc[:,4].values"
   ]
  },
  {
   "cell_type": "code",
   "execution_count": 13,
   "metadata": {},
   "outputs": [
    {
     "data": {
      "text/plain": [
       "array([0, 1], dtype=int64)"
      ]
     },
     "execution_count": 13,
     "metadata": {},
     "output_type": "execute_result"
    }
   ],
   "source": [
    "pd.unique(dataset['Purchased'])"
   ]
  },
  {
   "cell_type": "code",
   "execution_count": 14,
   "metadata": {},
   "outputs": [
    {
     "name": "stderr",
     "output_type": "stream",
     "text": [
      "C:\\Users\\Shambhavi\\Anaconda3\\lib\\site-packages\\matplotlib\\axes\\_axes.py:6462: UserWarning: The 'normed' kwarg is deprecated, and has been replaced by the 'density' kwarg.\n",
      "  warnings.warn(\"The 'normed' kwarg is deprecated, and has been \"\n"
     ]
    },
    {
     "data": {
      "text/plain": [
       "<matplotlib.axes._subplots.AxesSubplot at 0x29857f5ed30>"
      ]
     },
     "execution_count": 14,
     "metadata": {},
     "output_type": "execute_result"
    },
    {
     "data": {
      "image/png": "[encoded data removed]",
      "text/plain": [
       "<Figure size 432x288 with 1 Axes>"
      ]
     },
     "metadata": {},
     "output_type": "display_data"
    }
   ],
   "source": [
    "sb.distplot(dataset['EstimatedSalary'])"
   ]
  },
  {
   "cell_type": "code",
   "execution_count": 15,
   "metadata": {},
   "outputs": [
    {
     "data": {
      "text/plain": [
       "<matplotlib.axes._subplots.AxesSubplot at 0x298583057f0>"
      ]
     },
     "execution_count": 15,
     "metadata": {},
     "output_type": "execute_result"
    },
    {
     "data": {
      "image/png": "[encoded data removed]",
      "text/plain": [
       "<Figure size 432x288 with 1 Axes>"
      ]
     },
     "metadata": {},
     "output_type": "display_data"
    }
   ],
   "source": [
    "sb.countplot(dataset['Purchased'])"
   ]
  },
  {
   "cell_type": "code",
   "execution_count": 16,
   "metadata": {
    "collapsed": true
   },
   "outputs": [],
   "source": [
    "from sklearn.model_selection import train_test_split\n",
    "X_train,X_test,y_train,y_test=train_test_split(X,y,test_size=0.10,random_state=101)"
   ]
  },
  {
   "cell_type": "code",
   "execution_count": 17,
   "metadata": {},
   "outputs": [
    {
     "name": "stderr",
     "output_type": "stream",
     "text": [
      "C:\\Users\\Shambhavi\\Anaconda3\\lib\\site-packages\\sklearn\\utils\\validation.py:475: DataConversionWarning: Data with input dtype int64 was converted to float64 by StandardScaler.\n",
      "  warnings.warn(msg, DataConversionWarning)\n"
     ]
    }
   ],
   "source": [
    "from sklearn.preprocessing import StandardScaler\n",
    "sc=StandardScaler()\n",
    "X_train=sc.fit_transform(X_train)\n",
    "X_test=sc.transform(X_test)"
   ]
  },
  {
   "cell_type": "code",
   "execution_count": 18,
   "metadata": {},
   "outputs": [
    {
     "data": {
      "text/plain": [
       "array([[-1.59714384,  0.55764978],\n",
       "       [-0.73526076, -1.61636537],\n",
       "       [-0.25643682,  0.11093433],\n",
       "       [-0.25643682, -0.57402934],\n",
       "       [ 1.37156457,  2.04670124],\n",
       "       [ 0.12662233, -0.81227758],\n",
       "       [-0.83102554,  0.17049639],\n",
       "       [-0.92679033,  0.5874308 ],\n",
       "       [ 1.08427021,  0.5874308 ],\n",
       "       [-0.25643682, -1.37811714],\n",
       "       [-0.06490724, -0.36556214],\n",
       "       [ 2.13768287,  1.15327036],\n",
       "       [-1.40561427, -1.22921199],\n",
       "       [ 2.04191808,  0.20027742],\n",
       "       [ 1.85038851, -0.27621905],\n",
       "       [-0.25643682,  0.08115331],\n",
       "       [ 1.94615329,  2.22538742],\n",
       "       [-1.88443821, -0.75271552],\n",
       "       [-1.78867342,  0.20027742],\n",
       "       [ 0.79697584, -1.11008787],\n",
       "       [ 0.89274063, -1.05052581],\n",
       "       [ 0.03085754,  1.30217551],\n",
       "       [-1.40561427, -0.6335914 ],\n",
       "       [-0.73526076,  1.3915186 ],\n",
       "       [-0.25643682, -0.57402934],\n",
       "       [ 1.08427021,  0.49808772],\n",
       "       [ 0.31815191,  0.08115331],\n",
       "       [ 1.94615329, -1.37811714],\n",
       "       [-0.16067203, -0.51446728],\n",
       "       [-0.16067203, -0.18687596],\n",
       "       [-1.21408469,  0.61721183],\n",
       "       [-1.30984948, -0.33578111],\n",
       "       [-0.73526076,  1.95735816],\n",
       "       [ 0.79697584, -1.22921199],\n",
       "       [-0.83102554,  0.31940154],\n",
       "       [-0.63949597, -0.33578111],\n",
       "       [-0.54373118, -1.52702228],\n",
       "       [-1.88443821, -0.03797081],\n",
       "       [ 0.22238712, -0.27621905],\n",
       "       [-0.25643682,  0.05137228],\n",
       "       [ 0.70121106, -1.28877405],\n",
       "       [-0.92679033, -0.30600008],\n",
       "       [-0.92679033,  0.28962051],\n",
       "       [ 0.03085754,  1.27239448],\n",
       "       [ 0.98850542,  2.04670124],\n",
       "       [ 1.46732936,  0.3789636 ],\n",
       "       [-1.30984948, -0.42512419],\n",
       "       [ 0.98850542,  1.48086169],\n",
       "       [ 1.37156457, -1.43767919],\n",
       "       [ 0.22238712,  0.05137228],\n",
       "       [ 0.22238712,  0.17049639],\n",
       "       [-0.83102554, -0.66337243],\n",
       "       [-0.63949597, -0.03797081],\n",
       "       [-0.25643682, -0.66337243],\n",
       "       [-0.16067203,  0.8852411 ],\n",
       "       [ 0.03085754, -0.30600008],\n",
       "       [-0.83102554,  2.34451154],\n",
       "       [ 1.75462372,  1.03414625],\n",
       "       [ 0.41391669,  0.28962051],\n",
       "       [ 2.04191808,  0.40874463],\n",
       "       [-1.02255512, -1.1398689 ],\n",
       "       [-0.25643682, -0.75271552],\n",
       "       [ 0.03085754,  0.31940154],\n",
       "       [-0.25643682, -0.1273139 ],\n",
       "       [-0.25643682, -0.27621905],\n",
       "       [-1.69290863,  0.49808772],\n",
       "       [ 0.89274063,  1.06392727],\n",
       "       [-0.73526076, -1.55680331],\n",
       "       [-0.44796639, -0.84205861],\n",
       "       [ 0.22238712, -0.36556214],\n",
       "       [ 0.89274063, -1.31855508],\n",
       "       [ 1.08427021,  0.55764978],\n",
       "       [-0.44796639, -1.22921199],\n",
       "       [ 0.22238712, -0.66337243],\n",
       "       [ 0.79697584, -1.37811714],\n",
       "       [ 0.22238712,  0.08115331],\n",
       "       [-1.30984948, -1.37811714],\n",
       "       [-0.06490724,  0.14071536],\n",
       "       [ 0.31815191, -1.16964993],\n",
       "       [-0.25643682,  2.31473051],\n",
       "       [-0.06490724,  0.31940154],\n",
       "       [ 0.89274063,  2.22538742],\n",
       "       [-1.69290863,  0.3789636 ],\n",
       "       [-1.11831991, -1.02074478],\n",
       "       [-0.44796639, -0.54424831],\n",
       "       [-1.02255512,  2.01692022],\n",
       "       [ 0.70121106,  0.28962051],\n",
       "       [-1.59714384, -1.58658434],\n",
       "       [-0.16067203,  2.22538742],\n",
       "       [ 0.79697584,  0.79589801],\n",
       "       [-1.21408469,  0.31940154],\n",
       "       [-1.11831991,  0.31940154],\n",
       "       [ 0.70121106,  1.83823404],\n",
       "       [-1.50137906,  0.34918257],\n",
       "       [ 0.31815191, -0.51446728],\n",
       "       [ 0.41391669, -0.48468625],\n",
       "       [-0.92679033,  0.52786875],\n",
       "       [ 0.31815191, -0.54424831],\n",
       "       [ 0.12662233, -0.81227758],\n",
       "       [ 0.41391669,  1.15327036],\n",
       "       [-1.02255512, -1.46746022],\n",
       "       [ 0.31815191,  0.28962051],\n",
       "       [ 1.94615329,  0.94480316],\n",
       "       [ 0.98850542,  1.92757713],\n",
       "       [-0.92679033, -0.42512419],\n",
       "       [ 0.22238712, -0.36556214],\n",
       "       [ 1.37156457,  2.4040736 ],\n",
       "       [-0.25643682, -0.24643802],\n",
       "       [-1.11831991, -1.16964993],\n",
       "       [ 0.41391669,  0.11093433],\n",
       "       [ 0.22238712, -0.1273139 ],\n",
       "       [-0.63949597, -1.52702228],\n",
       "       [-0.06490724,  0.25983948],\n",
       "       [ 0.79697584,  0.55764978],\n",
       "       [ 1.37156457, -0.93140169],\n",
       "       [-0.92679033, -0.75271552],\n",
       "       [ 2.04191808, -0.81227758],\n",
       "       [-0.54373118, -1.52702228],\n",
       "       [-0.25643682, -0.33578111],\n",
       "       [-0.25643682, -0.42512419],\n",
       "       [ 1.65885893,  1.80845301],\n",
       "       [ 0.70121106, -1.11008787],\n",
       "       [ 0.12662233,  1.92757713],\n",
       "       [ 0.12662233,  0.28962051],\n",
       "       [ 0.70121106, -1.40789816],\n",
       "       [ 0.31815191, -0.30600008],\n",
       "       [-0.63949597, -1.05052581],\n",
       "       [ 0.41391669, -0.45490522],\n",
       "       [ 0.79697584, -1.40789816],\n",
       "       [-0.06490724, -1.08030684],\n",
       "       [-0.25643682,  0.17049639],\n",
       "       [-1.40561427, -0.18687596],\n",
       "       [ 1.65885893, -0.90162066],\n",
       "       [-0.25643682,  0.55764978],\n",
       "       [ 0.22238712, -0.24643802],\n",
       "       [-0.25643682,  0.08115331],\n",
       "       [ 2.13768287, -0.81227758],\n",
       "       [-0.06490724, -0.51446728],\n",
       "       [ 1.08427021, -0.1273139 ],\n",
       "       [ 0.79697584,  1.42129963],\n",
       "       [-0.16067203, -0.45490522],\n",
       "       [ 1.46732936, -1.05052581],\n",
       "       [-0.44796639,  1.30217551],\n",
       "       [-1.30984948, -0.42512419],\n",
       "       [ 0.98850542, -1.16964993],\n",
       "       [-0.63949597,  1.45108066],\n",
       "       [ 1.18003499,  0.55764978],\n",
       "       [-0.54373118,  1.95735816],\n",
       "       [-1.21408469, -1.40789816],\n",
       "       [ 1.56309414, -1.28877405],\n",
       "       [-1.11831991,  1.45108066],\n",
       "       [ 0.31815191, -0.18687596],\n",
       "       [ 0.22238712, -0.36556214],\n",
       "       [ 2.13768287, -1.05052581],\n",
       "       [-0.25643682, -1.25899302],\n",
       "       [ 2.04191808,  1.80845301],\n",
       "       [-0.73526076, -0.60381037],\n",
       "       [-1.02255512,  0.61721183],\n",
       "       [-0.25643682, -1.46746022],\n",
       "       [-0.25643682,  0.23005845],\n",
       "       [-0.54373118,  0.49808772],\n",
       "       [ 0.03085754, -0.57402934],\n",
       "       [ 0.79697584,  0.14071536],\n",
       "       [-0.92679033, -0.30600008],\n",
       "       [-1.11831991, -1.61636537],\n",
       "       [ 0.98850542, -1.02074478],\n",
       "       [-0.25643682, -0.48468625],\n",
       "       [ 0.31815191, -0.27621905],\n",
       "       [ 0.41391669,  0.02159125],\n",
       "       [ 1.37156457,  0.61721183],\n",
       "       [-0.16067203, -1.08030684],\n",
       "       [ 1.75462372,  1.8977961 ],\n",
       "       [ 2.13768287, -0.81227758],\n",
       "       [ 0.89274063, -1.46746022],\n",
       "       [ 0.12662233,  0.79589801],\n",
       "       [ 0.03085754, -0.24643802],\n",
       "       [ 1.46732936,  0.08115331],\n",
       "       [-0.06490724, -0.48468625],\n",
       "       [-1.40561427, -1.46746022],\n",
       "       [ 1.18003499, -0.99096375],\n",
       "       [ 0.03085754, -0.57402934],\n",
       "       [ 0.12662233,  0.17049639],\n",
       "       [ 0.98850542, -1.08030684],\n",
       "       [-1.11831991,  0.49808772],\n",
       "       [ 1.08427021, -0.90162066],\n",
       "       [-0.25643682,  0.64699286],\n",
       "       [ 0.22238712,  2.16582536],\n",
       "       [-0.25643682, -0.90162066],\n",
       "       [ 1.08427021,  2.13604433],\n",
       "       [-0.54373118,  1.42129963],\n",
       "       [ 1.75462372, -0.27621905],\n",
       "       [ 0.50968148,  1.77867198],\n",
       "       [-1.11831991, -1.11008787],\n",
       "       [-0.16067203, -0.57402934],\n",
       "       [-0.83102554, -0.24643802],\n",
       "       [ 0.03085754, -0.24643802],\n",
       "       [-0.06490724,  0.08115331],\n",
       "       [ 0.98850542, -0.84205861],\n",
       "       [-0.25643682,  1.15327036],\n",
       "       [ 1.27579978, -1.37811714],\n",
       "       [-1.02255512,  0.43852566],\n",
       "       [-0.83102554, -1.22921199],\n",
       "       [ 1.56309414,  1.15327036],\n",
       "       [-1.11831991,  0.34918257],\n",
       "       [ 1.08427021, -0.99096375],\n",
       "       [-1.30984948, -1.11008787],\n",
       "       [-0.73526076,  0.31940154],\n",
       "       [-1.11831991, -0.78249655],\n",
       "       [ 1.56309414,  0.02159125],\n",
       "       [ 1.94615329,  0.76611698],\n",
       "       [-1.78867342,  0.02159125],\n",
       "       [-1.30984948,  0.5874308 ],\n",
       "       [-1.02255512, -0.33578111],\n",
       "       [ 0.22238712,  1.12348933],\n",
       "       [-1.30984948, -1.49724125],\n",
       "       [ 2.13768287, -0.69315346],\n",
       "       [ 1.08427021, -1.22921199],\n",
       "       [ 0.31815191, -0.72293449],\n",
       "       [-0.63949597, -0.09753287],\n",
       "       [ 0.98850542,  0.14071536],\n",
       "       [ 0.22238712,  0.17049639],\n",
       "       [-0.25643682, -1.31855508],\n",
       "       [-1.30984948,  0.43852566],\n",
       "       [ 0.98850542, -1.08030684],\n",
       "       [-0.73526076, -0.21665699],\n",
       "       [-0.35220161, -1.31855508],\n",
       "       [ 0.50968148,  1.27239448],\n",
       "       [ 1.27579978,  1.92757713],\n",
       "       [ 0.12662233, -0.30600008],\n",
       "       [-1.02255512,  0.79589801],\n",
       "       [-1.21408469,  0.52786875],\n",
       "       [-0.73526076,  0.28962051],\n",
       "       [-1.50137906, -0.18687596],\n",
       "       [-1.11831991, -1.55680331],\n",
       "       [-1.11831991,  0.43852566],\n",
       "       [-1.40561427,  0.3789636 ],\n",
       "       [-0.06490724, -0.21665699],\n",
       "       [ 0.12662233, -0.24643802],\n",
       "       [ 0.03085754, -0.54424831],\n",
       "       [-1.50137906, -0.42512419],\n",
       "       [-0.92679033,  1.5999858 ],\n",
       "       [ 2.04191808,  2.19560639],\n",
       "       [ 1.08427021, -1.22921199],\n",
       "       [-1.11831991, -1.58658434],\n",
       "       [ 2.04191808,  0.55764978],\n",
       "       [-0.06490724,  2.28494948],\n",
       "       [-0.83102554,  0.40874463],\n",
       "       [ 0.60544627,  2.07648227],\n",
       "       [-0.25643682, -0.30600008],\n",
       "       [-0.44796639, -0.27621905],\n",
       "       [ 0.89274063,  1.30217551],\n",
       "       [-1.50137906, -1.25899302],\n",
       "       [-1.69290863, -0.60381037],\n",
       "       [ 0.03085754, -0.1273139 ],\n",
       "       [ 0.22238712,  0.25983948],\n",
       "       [ 1.85038851, -1.08030684],\n",
       "       [ 0.89274063, -1.16964993],\n",
       "       [ 1.18003499, -1.46746022],\n",
       "       [-0.25643682, -1.40789816],\n",
       "       [-0.83102554,  0.40874463],\n",
       "       [ 1.18003499, -0.75271552],\n",
       "       [ 0.79697584,  0.28962051],\n",
       "       [ 0.70121106, -1.40789816],\n",
       "       [ 0.89274063, -0.60381037],\n",
       "       [-1.69290863,  0.14071536],\n",
       "       [-0.06490724,  0.70655492],\n",
       "       [-0.16067203,  1.65954786],\n",
       "       [-0.44796639, -1.1398689 ],\n",
       "       [-1.21408469,  0.28962051],\n",
       "       [-0.16067203,  1.68932889],\n",
       "       [ 1.37156457,  1.33195654],\n",
       "       [-0.25643682, -0.93140169],\n",
       "       [ 0.31815191,  0.08115331],\n",
       "       [-1.30984948, -1.25899302],\n",
       "       [ 0.41391669, -0.1273139 ],\n",
       "       [ 0.03085754, -0.42512419],\n",
       "       [ 1.65885893,  1.65954786],\n",
       "       [-0.16067203,  0.17049639],\n",
       "       [ 0.41391669, -0.45490522],\n",
       "       [-1.69290863, -0.99096375],\n",
       "       [ 0.60544627, -0.90162066],\n",
       "       [-1.88443821,  0.3789636 ],\n",
       "       [-0.06490724,  0.28962051],\n",
       "       [-1.02255512, -0.36556214],\n",
       "       [-0.83102554, -0.78249655],\n",
       "       [-0.06490724, -0.42512419],\n",
       "       [-1.11831991, -1.61636537],\n",
       "       [ 2.04191808, -1.19943096],\n",
       "       [-1.50137906, -1.52702228],\n",
       "       [-0.35220161, -0.78249655],\n",
       "       [-0.73526076,  1.12348933],\n",
       "       [ 0.89274063, -0.78249655],\n",
       "       [ 0.41391669,  0.31940154],\n",
       "       [-1.02255512, -0.45490522],\n",
       "       [-0.35220161,  0.08115331],\n",
       "       [-0.06490724,  0.02159125],\n",
       "       [ 0.41391669,  1.03414625],\n",
       "       [ 0.03085754,  0.05137228],\n",
       "       [ 0.41391669,  0.61721183],\n",
       "       [-1.11831991,  0.31940154],\n",
       "       [-0.63949597,  0.14071536],\n",
       "       [ 0.12662233,  0.11093433],\n",
       "       [-1.78867342, -1.28877405],\n",
       "       [ 0.89274063, -0.57402934],\n",
       "       [-0.63949597,  0.20027742],\n",
       "       [ 0.31815191,  0.05137228],\n",
       "       [ 0.31815191, -0.51446728],\n",
       "       [ 0.12662233,  1.0937083 ],\n",
       "       [-1.78867342,  0.46830669],\n",
       "       [-0.25643682,  0.17049639],\n",
       "       [-1.78867342, -1.49724125],\n",
       "       [ 1.94615329, -0.93140169],\n",
       "       [ 0.31815191,  0.08115331],\n",
       "       [ 0.41391669,  0.17049639],\n",
       "       [ 0.89274063,  1.12348933],\n",
       "       [ 0.79697584,  0.3789636 ],\n",
       "       [-0.25643682, -0.36556214],\n",
       "       [-0.44796639,  2.37429257],\n",
       "       [-0.54373118,  2.4040736 ],\n",
       "       [-0.16067203, -0.27621905],\n",
       "       [ 0.98850542,  2.13604433],\n",
       "       [-0.92679033, -0.96118272],\n",
       "       [-0.44796639, -0.00818978],\n",
       "       [-1.40561427, -0.09753287],\n",
       "       [ 0.98850542,  0.61721183],\n",
       "       [ 1.46732936,  2.19560639],\n",
       "       [-1.59714384,  0.08115331],\n",
       "       [ 0.89274063, -0.54424831],\n",
       "       [-1.02255512,  0.5874308 ],\n",
       "       [ 2.13768287,  0.97458419],\n",
       "       [-1.88443821, -0.51446728],\n",
       "       [ 0.41391669, -0.1273139 ],\n",
       "       [ 1.85038851,  0.14071536],\n",
       "       [-0.25643682,  0.82567904],\n",
       "       [-0.16067203,  1.45108066],\n",
       "       [-0.92679033,  0.43852566],\n",
       "       [-0.54373118,  1.42129963],\n",
       "       [ 0.31815191,  0.52786875],\n",
       "       [ 2.13768287,  0.40874463],\n",
       "       [-1.69290863,  0.3789636 ],\n",
       "       [-0.06490724,  0.05137228],\n",
       "       [ 0.12662233,  1.57020477],\n",
       "       [-0.63949597,  0.5874308 ],\n",
       "       [ 0.70121106, -0.72293449],\n",
       "       [-1.02255512, -0.33578111],\n",
       "       [ 0.12662233,  0.05137228],\n",
       "       [-0.83102554, -0.78249655],\n",
       "       [ 0.31815191,  0.31940154],\n",
       "       [ 1.56309414,  1.03414625],\n",
       "       [ 1.27579978,  2.28494948],\n",
       "       [ 0.79697584, -0.84205861],\n",
       "       [-0.73526076,  0.52786875],\n",
       "       [-1.02255512, -1.55680331],\n",
       "       [-0.35220161,  1.27239448],\n",
       "       [-0.92679033,  0.46830669],\n",
       "       [-0.54373118,  1.51064272],\n",
       "       [ 0.31815191,  0.08115331],\n",
       "       [-0.25643682,  0.28962051],\n",
       "       [-1.11831991, -0.51446728],\n",
       "       [-0.06490724,  0.17049639]])"
      ]
     },
     "execution_count": 18,
     "metadata": {},
     "output_type": "execute_result"
    }
   ],
   "source": [
    "X_train"
   ]
  },
  {
   "cell_type": "code",
   "execution_count": 19,
   "metadata": {},
   "outputs": [
    {
     "data": {
      "text/plain": [
       "GaussianNB(priors=None)"
      ]
     },
     "execution_count": 19,
     "metadata": {},
     "output_type": "execute_result"
    }
   ],
   "source": [
    "from sklearn.naive_bayes import GaussianNB\n",
    "classifier=GaussianNB()\n",
    "classifier.fit(X_train,y_train)"
   ]
  },
  {
   "cell_type": "code",
   "execution_count": 20,
   "metadata": {
    "collapsed": true
   },
   "outputs": [],
   "source": [
    "y_pred=classifier.predict(X_test)"
   ]
  },
  {
   "cell_type": "code",
   "execution_count": 21,
   "metadata": {},
   "outputs": [
    {
     "data": {
      "text/plain": [
       "array([0, 0, 1, 0, 0, 1, 0, 0, 0, 0, 1, 1, 1, 0, 0, 0, 1, 1, 0, 1, 1, 1,\n",
       "       0, 0, 0, 0, 0, 1, 1, 1, 0, 0, 0, 0, 1, 0, 1, 1, 1, 0], dtype=int64)"
      ]
     },
     "execution_count": 21,
     "metadata": {},
     "output_type": "execute_result"
    }
   ],
   "source": [
    "y_pred"
   ]
  },
  {
   "cell_type": "code",
   "execution_count": 22,
   "metadata": {},
   "outputs": [
    {
     "data": {
      "text/plain": [
       "0.85"
      ]
     },
     "execution_count": 22,
     "metadata": {},
     "output_type": "execute_result"
    }
   ],
   "source": [
    "classifier.score(X_test,y_test)"
   ]
  },
  {
   "cell_type": "code",
   "execution_count": 23,
   "metadata": {},
   "outputs": [
    {
     "data": {
      "text/plain": [
       "array([1], dtype=int64)"
      ]
     },
     "execution_count": 23,
     "metadata": {},
     "output_type": "execute_result"
    }
   ],
   "source": [
    "X_new=sc.transform([[42,100000]])\n",
    "classifier.predict(X_new)"
   ]
  },
  {
   "cell_type": "code",
   "execution_count": 24,
   "metadata": {},
   "outputs": [
    {
     "name": "stdout",
     "output_type": "stream",
     "text": [
      "[[22  5]\n",
      " [ 1 12]]\n",
      "             precision    recall  f1-score   support\n",
      "\n",
      "          0       0.96      0.81      0.88        27\n",
      "          1       0.71      0.92      0.80        13\n",
      "\n",
      "avg / total       0.88      0.85      0.85        40\n",
      "\n"
     ]
    }
   ],
   "source": [
    "from sklearn.metrics import classification_report,confusion_matrix\n",
    "print(confusion_matrix(y_test,y_pred))\n",
    "print(classification_report(y_test,y_pred))"
   ]
  },
  {
   "cell_type": "markdown",
   "metadata": {},
   "source": [
    "## Random Forest"
   ]
  },
  {
   "cell_type": "code",
   "execution_count": 25,
   "metadata": {
    "collapsed": true
   },
   "outputs": [],
   "source": [
    "#Decision tree based algorithm"
   ]
  },
  {
   "cell_type": "code",
   "execution_count": 26,
   "metadata": {
    "collapsed": true
   },
   "outputs": [],
   "source": [
    "from sklearn import datasets\n",
    "iris=datasets.load_iris()"
   ]
  },
  {
   "cell_type": "code",
   "execution_count": 27,
   "metadata": {},
   "outputs": [
    {
     "name": "stdout",
     "output_type": "stream",
     "text": [
      "['setosa' 'versicolor' 'virginica']\n"
     ]
    }
   ],
   "source": [
    "print(iris.target_names)"
   ]
  },
  {
   "cell_type": "code",
   "execution_count": 28,
   "metadata": {},
   "outputs": [
    {
     "name": "stdout",
     "output_type": "stream",
     "text": [
      "['sepal length (cm)', 'sepal width (cm)', 'petal length (cm)', 'petal width (cm)']\n"
     ]
    }
   ],
   "source": [
    "print(iris.feature_names)"
   ]
  },
  {
   "cell_type": "code",
   "execution_count": 29,
   "metadata": {
    "collapsed": true
   },
   "outputs": [],
   "source": [
    "data=pd.DataFrame({'sepal length':iris.data[:,0],\n",
    "                 'sepal width':iris.data[:,1],\n",
    "                 'petal length':iris.data[:,2],\n",
    "                 'petal width':iris.data[:,3],\n",
    "                  'species':iris.target})"
   ]
  },
  {
   "cell_type": "code",
   "execution_count": 30,
   "metadata": {},
   "outputs": [
    {
     "data": {
      "text/html": [
       "<div>\n",
       "<style scoped>\n",
       "    .dataframe tbody tr th:only-of-type {\n",
       "        vertical-align: middle;\n",
       "    }\n",
       "\n",
       "    .dataframe tbody tr th {\n",
       "        vertical-align: top;\n",
       "    }\n",
       "\n",
       "    .dataframe thead th {\n",
       "        text-align: right;\n",
       "    }\n",
       "</style>\n",
       "<table border=\"1\" class=\"dataframe\">\n",
       "  <thead>\n",
       "    <tr style=\"text-align: right;\">\n",
       "      <th></th>\n",
       "      <th>petal length</th>\n",
       "      <th>petal width</th>\n",
       "      <th>sepal length</th>\n",
       "      <th>sepal width</th>\n",
       "      <th>species</th>\n",
       "    </tr>\n",
       "  </thead>\n",
       "  <tbody>\n",
       "    <tr>\n",
       "      <th>0</th>\n",
       "      <td>1.4</td>\n",
       "      <td>0.2</td>\n",
       "      <td>5.1</td>\n",
       "      <td>3.5</td>\n",
       "      <td>0</td>\n",
       "    </tr>\n",
       "    <tr>\n",
       "      <th>1</th>\n",
       "      <td>1.4</td>\n",
       "      <td>0.2</td>\n",
       "      <td>4.9</td>\n",
       "      <td>3.0</td>\n",
       "      <td>0</td>\n",
       "    </tr>\n",
       "    <tr>\n",
       "      <th>2</th>\n",
       "      <td>1.3</td>\n",
       "      <td>0.2</td>\n",
       "      <td>4.7</td>\n",
       "      <td>3.2</td>\n",
       "      <td>0</td>\n",
       "    </tr>\n",
       "    <tr>\n",
       "      <th>3</th>\n",
       "      <td>1.5</td>\n",
       "      <td>0.2</td>\n",
       "      <td>4.6</td>\n",
       "      <td>3.1</td>\n",
       "      <td>0</td>\n",
       "    </tr>\n",
       "    <tr>\n",
       "      <th>4</th>\n",
       "      <td>1.4</td>\n",
       "      <td>0.2</td>\n",
       "      <td>5.0</td>\n",
       "      <td>3.6</td>\n",
       "      <td>0</td>\n",
       "    </tr>\n",
       "  </tbody>\n",
       "</table>\n",
       "</div>"
      ],
      "text/plain": [
       "   petal length  petal width  sepal length  sepal width  species\n",
       "0           1.4          0.2           5.1          3.5        0\n",
       "1           1.4          0.2           4.9          3.0        0\n",
       "2           1.3          0.2           4.7          3.2        0\n",
       "3           1.5          0.2           4.6          3.1        0\n",
       "4           1.4          0.2           5.0          3.6        0"
      ]
     },
     "execution_count": 30,
     "metadata": {},
     "output_type": "execute_result"
    }
   ],
   "source": [
    "data.head()"
   ]
  },
  {
   "cell_type": "code",
   "execution_count": 31,
   "metadata": {
    "collapsed": true
   },
   "outputs": [],
   "source": [
    "X=data[['sepal length','sepal width','petal length','petal width']]\n",
    "y=data['species']\n",
    "from sklearn.model_selection import train_test_split\n",
    "X_train,X_test,y_train,y_test=train_test_split(X,y,test_size=0.3,random_state=0)"
   ]
  },
  {
   "cell_type": "code",
   "execution_count": 32,
   "metadata": {},
   "outputs": [
    {
     "data": {
      "text/html": [
       "<div>\n",
       "<style scoped>\n",
       "    .dataframe tbody tr th:only-of-type {\n",
       "        vertical-align: middle;\n",
       "    }\n",
       "\n",
       "    .dataframe tbody tr th {\n",
       "        vertical-align: top;\n",
       "    }\n",
       "\n",
       "    .dataframe thead th {\n",
       "        text-align: right;\n",
       "    }\n",
       "</style>\n",
       "<table border=\"1\" class=\"dataframe\">\n",
       "  <thead>\n",
       "    <tr style=\"text-align: right;\">\n",
       "      <th></th>\n",
       "      <th>sepal length</th>\n",
       "      <th>sepal width</th>\n",
       "      <th>petal length</th>\n",
       "      <th>petal width</th>\n",
       "    </tr>\n",
       "  </thead>\n",
       "  <tbody>\n",
       "    <tr>\n",
       "      <th>0</th>\n",
       "      <td>5.1</td>\n",
       "      <td>3.5</td>\n",
       "      <td>1.4</td>\n",
       "      <td>0.2</td>\n",
       "    </tr>\n",
       "    <tr>\n",
       "      <th>1</th>\n",
       "      <td>4.9</td>\n",
       "      <td>3.0</td>\n",
       "      <td>1.4</td>\n",
       "      <td>0.2</td>\n",
       "    </tr>\n",
       "    <tr>\n",
       "      <th>2</th>\n",
       "      <td>4.7</td>\n",
       "      <td>3.2</td>\n",
       "      <td>1.3</td>\n",
       "      <td>0.2</td>\n",
       "    </tr>\n",
       "    <tr>\n",
       "      <th>3</th>\n",
       "      <td>4.6</td>\n",
       "      <td>3.1</td>\n",
       "      <td>1.5</td>\n",
       "      <td>0.2</td>\n",
       "    </tr>\n",
       "    <tr>\n",
       "      <th>4</th>\n",
       "      <td>5.0</td>\n",
       "      <td>3.6</td>\n",
       "      <td>1.4</td>\n",
       "      <td>0.2</td>\n",
       "    </tr>\n",
       "    <tr>\n",
       "      <th>5</th>\n",
       "      <td>5.4</td>\n",
       "      <td>3.9</td>\n",
       "      <td>1.7</td>\n",
       "      <td>0.4</td>\n",
       "    </tr>\n",
       "    <tr>\n",
       "      <th>6</th>\n",
       "      <td>4.6</td>\n",
       "      <td>3.4</td>\n",
       "      <td>1.4</td>\n",
       "      <td>0.3</td>\n",
       "    </tr>\n",
       "    <tr>\n",
       "      <th>7</th>\n",
       "      <td>5.0</td>\n",
       "      <td>3.4</td>\n",
       "      <td>1.5</td>\n",
       "      <td>0.2</td>\n",
       "    </tr>\n",
       "    <tr>\n",
       "      <th>8</th>\n",
       "      <td>4.4</td>\n",
       "      <td>2.9</td>\n",
       "      <td>1.4</td>\n",
       "      <td>0.2</td>\n",
       "    </tr>\n",
       "    <tr>\n",
       "      <th>9</th>\n",
       "      <td>4.9</td>\n",
       "      <td>3.1</td>\n",
       "      <td>1.5</td>\n",
       "      <td>0.1</td>\n",
       "    </tr>\n",
       "    <tr>\n",
       "      <th>10</th>\n",
       "      <td>5.4</td>\n",
       "      <td>3.7</td>\n",
       "      <td>1.5</td>\n",
       "      <td>0.2</td>\n",
       "    </tr>\n",
       "    <tr>\n",
       "      <th>11</th>\n",
       "      <td>4.8</td>\n",
       "      <td>3.4</td>\n",
       "      <td>1.6</td>\n",
       "      <td>0.2</td>\n",
       "    </tr>\n",
       "    <tr>\n",
       "      <th>12</th>\n",
       "      <td>4.8</td>\n",
       "      <td>3.0</td>\n",
       "      <td>1.4</td>\n",
       "      <td>0.1</td>\n",
       "    </tr>\n",
       "    <tr>\n",
       "      <th>13</th>\n",
       "      <td>4.3</td>\n",
       "      <td>3.0</td>\n",
       "      <td>1.1</td>\n",
       "      <td>0.1</td>\n",
       "    </tr>\n",
       "    <tr>\n",
       "      <th>14</th>\n",
       "      <td>5.8</td>\n",
       "      <td>4.0</td>\n",
       "      <td>1.2</td>\n",
       "      <td>0.2</td>\n",
       "    </tr>\n",
       "    <tr>\n",
       "      <th>15</th>\n",
       "      <td>5.7</td>\n",
       "      <td>4.4</td>\n",
       "      <td>1.5</td>\n",
       "      <td>0.4</td>\n",
       "    </tr>\n",
       "    <tr>\n",
       "      <th>16</th>\n",
       "      <td>5.4</td>\n",
       "      <td>3.9</td>\n",
       "      <td>1.3</td>\n",
       "      <td>0.4</td>\n",
       "    </tr>\n",
       "    <tr>\n",
       "      <th>17</th>\n",
       "      <td>5.1</td>\n",
       "      <td>3.5</td>\n",
       "      <td>1.4</td>\n",
       "      <td>0.3</td>\n",
       "    </tr>\n",
       "    <tr>\n",
       "      <th>18</th>\n",
       "      <td>5.7</td>\n",
       "      <td>3.8</td>\n",
       "      <td>1.7</td>\n",
       "      <td>0.3</td>\n",
       "    </tr>\n",
       "    <tr>\n",
       "      <th>19</th>\n",
       "      <td>5.1</td>\n",
       "      <td>3.8</td>\n",
       "      <td>1.5</td>\n",
       "      <td>0.3</td>\n",
       "    </tr>\n",
       "    <tr>\n",
       "      <th>20</th>\n",
       "      <td>5.4</td>\n",
       "      <td>3.4</td>\n",
       "      <td>1.7</td>\n",
       "      <td>0.2</td>\n",
       "    </tr>\n",
       "    <tr>\n",
       "      <th>21</th>\n",
       "      <td>5.1</td>\n",
       "      <td>3.7</td>\n",
       "      <td>1.5</td>\n",
       "      <td>0.4</td>\n",
       "    </tr>\n",
       "    <tr>\n",
       "      <th>22</th>\n",
       "      <td>4.6</td>\n",
       "      <td>3.6</td>\n",
       "      <td>1.0</td>\n",
       "      <td>0.2</td>\n",
       "    </tr>\n",
       "    <tr>\n",
       "      <th>23</th>\n",
       "      <td>5.1</td>\n",
       "      <td>3.3</td>\n",
       "      <td>1.7</td>\n",
       "      <td>0.5</td>\n",
       "    </tr>\n",
       "    <tr>\n",
       "      <th>24</th>\n",
       "      <td>4.8</td>\n",
       "      <td>3.4</td>\n",
       "      <td>1.9</td>\n",
       "      <td>0.2</td>\n",
       "    </tr>\n",
       "    <tr>\n",
       "      <th>25</th>\n",
       "      <td>5.0</td>\n",
       "      <td>3.0</td>\n",
       "      <td>1.6</td>\n",
       "      <td>0.2</td>\n",
       "    </tr>\n",
       "    <tr>\n",
       "      <th>26</th>\n",
       "      <td>5.0</td>\n",
       "      <td>3.4</td>\n",
       "      <td>1.6</td>\n",
       "      <td>0.4</td>\n",
       "    </tr>\n",
       "    <tr>\n",
       "      <th>27</th>\n",
       "      <td>5.2</td>\n",
       "      <td>3.5</td>\n",
       "      <td>1.5</td>\n",
       "      <td>0.2</td>\n",
       "    </tr>\n",
       "    <tr>\n",
       "      <th>28</th>\n",
       "      <td>5.2</td>\n",
       "      <td>3.4</td>\n",
       "      <td>1.4</td>\n",
       "      <td>0.2</td>\n",
       "    </tr>\n",
       "    <tr>\n",
       "      <th>29</th>\n",
       "      <td>4.7</td>\n",
       "      <td>3.2</td>\n",
       "      <td>1.6</td>\n",
       "      <td>0.2</td>\n",
       "    </tr>\n",
       "    <tr>\n",
       "      <th>...</th>\n",
       "      <td>...</td>\n",
       "      <td>...</td>\n",
       "      <td>...</td>\n",
       "      <td>...</td>\n",
       "    </tr>\n",
       "    <tr>\n",
       "      <th>120</th>\n",
       "      <td>6.9</td>\n",
       "      <td>3.2</td>\n",
       "      <td>5.7</td>\n",
       "      <td>2.3</td>\n",
       "    </tr>\n",
       "    <tr>\n",
       "      <th>121</th>\n",
       "      <td>5.6</td>\n",
       "      <td>2.8</td>\n",
       "      <td>4.9</td>\n",
       "      <td>2.0</td>\n",
       "    </tr>\n",
       "    <tr>\n",
       "      <th>122</th>\n",
       "      <td>7.7</td>\n",
       "      <td>2.8</td>\n",
       "      <td>6.7</td>\n",
       "      <td>2.0</td>\n",
       "    </tr>\n",
       "    <tr>\n",
       "      <th>123</th>\n",
       "      <td>6.3</td>\n",
       "      <td>2.7</td>\n",
       "      <td>4.9</td>\n",
       "      <td>1.8</td>\n",
       "    </tr>\n",
       "    <tr>\n",
       "      <th>124</th>\n",
       "      <td>6.7</td>\n",
       "      <td>3.3</td>\n",
       "      <td>5.7</td>\n",
       "      <td>2.1</td>\n",
       "    </tr>\n",
       "    <tr>\n",
       "      <th>125</th>\n",
       "      <td>7.2</td>\n",
       "      <td>3.2</td>\n",
       "      <td>6.0</td>\n",
       "      <td>1.8</td>\n",
       "    </tr>\n",
       "    <tr>\n",
       "      <th>126</th>\n",
       "      <td>6.2</td>\n",
       "      <td>2.8</td>\n",
       "      <td>4.8</td>\n",
       "      <td>1.8</td>\n",
       "    </tr>\n",
       "    <tr>\n",
       "      <th>127</th>\n",
       "      <td>6.1</td>\n",
       "      <td>3.0</td>\n",
       "      <td>4.9</td>\n",
       "      <td>1.8</td>\n",
       "    </tr>\n",
       "    <tr>\n",
       "      <th>128</th>\n",
       "      <td>6.4</td>\n",
       "      <td>2.8</td>\n",
       "      <td>5.6</td>\n",
       "      <td>2.1</td>\n",
       "    </tr>\n",
       "    <tr>\n",
       "      <th>129</th>\n",
       "      <td>7.2</td>\n",
       "      <td>3.0</td>\n",
       "      <td>5.8</td>\n",
       "      <td>1.6</td>\n",
       "    </tr>\n",
       "    <tr>\n",
       "      <th>130</th>\n",
       "      <td>7.4</td>\n",
       "      <td>2.8</td>\n",
       "      <td>6.1</td>\n",
       "      <td>1.9</td>\n",
       "    </tr>\n",
       "    <tr>\n",
       "      <th>131</th>\n",
       "      <td>7.9</td>\n",
       "      <td>3.8</td>\n",
       "      <td>6.4</td>\n",
       "      <td>2.0</td>\n",
       "    </tr>\n",
       "    <tr>\n",
       "      <th>132</th>\n",
       "      <td>6.4</td>\n",
       "      <td>2.8</td>\n",
       "      <td>5.6</td>\n",
       "      <td>2.2</td>\n",
       "    </tr>\n",
       "    <tr>\n",
       "      <th>133</th>\n",
       "      <td>6.3</td>\n",
       "      <td>2.8</td>\n",
       "      <td>5.1</td>\n",
       "      <td>1.5</td>\n",
       "    </tr>\n",
       "    <tr>\n",
       "      <th>134</th>\n",
       "      <td>6.1</td>\n",
       "      <td>2.6</td>\n",
       "      <td>5.6</td>\n",
       "      <td>1.4</td>\n",
       "    </tr>\n",
       "    <tr>\n",
       "      <th>135</th>\n",
       "      <td>7.7</td>\n",
       "      <td>3.0</td>\n",
       "      <td>6.1</td>\n",
       "      <td>2.3</td>\n",
       "    </tr>\n",
       "    <tr>\n",
       "      <th>136</th>\n",
       "      <td>6.3</td>\n",
       "      <td>3.4</td>\n",
       "      <td>5.6</td>\n",
       "      <td>2.4</td>\n",
       "    </tr>\n",
       "    <tr>\n",
       "      <th>137</th>\n",
       "      <td>6.4</td>\n",
       "      <td>3.1</td>\n",
       "      <td>5.5</td>\n",
       "      <td>1.8</td>\n",
       "    </tr>\n",
       "    <tr>\n",
       "      <th>138</th>\n",
       "      <td>6.0</td>\n",
       "      <td>3.0</td>\n",
       "      <td>4.8</td>\n",
       "      <td>1.8</td>\n",
       "    </tr>\n",
       "    <tr>\n",
       "      <th>139</th>\n",
       "      <td>6.9</td>\n",
       "      <td>3.1</td>\n",
       "      <td>5.4</td>\n",
       "      <td>2.1</td>\n",
       "    </tr>\n",
       "    <tr>\n",
       "      <th>140</th>\n",
       "      <td>6.7</td>\n",
       "      <td>3.1</td>\n",
       "      <td>5.6</td>\n",
       "      <td>2.4</td>\n",
       "    </tr>\n",
       "    <tr>\n",
       "      <th>141</th>\n",
       "      <td>6.9</td>\n",
       "      <td>3.1</td>\n",
       "      <td>5.1</td>\n",
       "      <td>2.3</td>\n",
       "    </tr>\n",
       "    <tr>\n",
       "      <th>142</th>\n",
       "      <td>5.8</td>\n",
       "      <td>2.7</td>\n",
       "      <td>5.1</td>\n",
       "      <td>1.9</td>\n",
       "    </tr>\n",
       "    <tr>\n",
       "      <th>143</th>\n",
       "      <td>6.8</td>\n",
       "      <td>3.2</td>\n",
       "      <td>5.9</td>\n",
       "      <td>2.3</td>\n",
       "    </tr>\n",
       "    <tr>\n",
       "      <th>144</th>\n",
       "      <td>6.7</td>\n",
       "      <td>3.3</td>\n",
       "      <td>5.7</td>\n",
       "      <td>2.5</td>\n",
       "    </tr>\n",
       "    <tr>\n",
       "      <th>145</th>\n",
       "      <td>6.7</td>\n",
       "      <td>3.0</td>\n",
       "      <td>5.2</td>\n",
       "      <td>2.3</td>\n",
       "    </tr>\n",
       "    <tr>\n",
       "      <th>146</th>\n",
       "      <td>6.3</td>\n",
       "      <td>2.5</td>\n",
       "      <td>5.0</td>\n",
       "      <td>1.9</td>\n",
       "    </tr>\n",
       "    <tr>\n",
       "      <th>147</th>\n",
       "      <td>6.5</td>\n",
       "      <td>3.0</td>\n",
       "      <td>5.2</td>\n",
       "      <td>2.0</td>\n",
       "    </tr>\n",
       "    <tr>\n",
       "      <th>148</th>\n",
       "      <td>6.2</td>\n",
       "      <td>3.4</td>\n",
       "      <td>5.4</td>\n",
       "      <td>2.3</td>\n",
       "    </tr>\n",
       "    <tr>\n",
       "      <th>149</th>\n",
       "      <td>5.9</td>\n",
       "      <td>3.0</td>\n",
       "      <td>5.1</td>\n",
       "      <td>1.8</td>\n",
       "    </tr>\n",
       "  </tbody>\n",
       "</table>\n",
       "<p>150 rows × 4 columns</p>\n",
       "</div>"
      ],
      "text/plain": [
       "     sepal length  sepal width  petal length  petal width\n",
       "0             5.1          3.5           1.4          0.2\n",
       "1             4.9          3.0           1.4          0.2\n",
       "2             4.7          3.2           1.3          0.2\n",
       "3             4.6          3.1           1.5          0.2\n",
       "4             5.0          3.6           1.4          0.2\n",
       "5             5.4          3.9           1.7          0.4\n",
       "6             4.6          3.4           1.4          0.3\n",
       "7             5.0          3.4           1.5          0.2\n",
       "8             4.4          2.9           1.4          0.2\n",
       "9             4.9          3.1           1.5          0.1\n",
       "10            5.4          3.7           1.5          0.2\n",
       "11            4.8          3.4           1.6          0.2\n",
       "12            4.8          3.0           1.4          0.1\n",
       "13            4.3          3.0           1.1          0.1\n",
       "14            5.8          4.0           1.2          0.2\n",
       "15            5.7          4.4           1.5          0.4\n",
       "16            5.4          3.9           1.3          0.4\n",
       "17            5.1          3.5           1.4          0.3\n",
       "18            5.7          3.8           1.7          0.3\n",
       "19            5.1          3.8           1.5          0.3\n",
       "20            5.4          3.4           1.7          0.2\n",
       "21            5.1          3.7           1.5          0.4\n",
       "22            4.6          3.6           1.0          0.2\n",
       "23            5.1          3.3           1.7          0.5\n",
       "24            4.8          3.4           1.9          0.2\n",
       "25            5.0          3.0           1.6          0.2\n",
       "26            5.0          3.4           1.6          0.4\n",
       "27            5.2          3.5           1.5          0.2\n",
       "28            5.2          3.4           1.4          0.2\n",
       "29            4.7          3.2           1.6          0.2\n",
       "..            ...          ...           ...          ...\n",
       "120           6.9          3.2           5.7          2.3\n",
       "121           5.6          2.8           4.9          2.0\n",
       "122           7.7          2.8           6.7          2.0\n",
       "123           6.3          2.7           4.9          1.8\n",
       "124           6.7          3.3           5.7          2.1\n",
       "125           7.2          3.2           6.0          1.8\n",
       "126           6.2          2.8           4.8          1.8\n",
       "127           6.1          3.0           4.9          1.8\n",
       "128           6.4          2.8           5.6          2.1\n",
       "129           7.2          3.0           5.8          1.6\n",
       "130           7.4          2.8           6.1          1.9\n",
       "131           7.9          3.8           6.4          2.0\n",
       "132           6.4          2.8           5.6          2.2\n",
       "133           6.3          2.8           5.1          1.5\n",
       "134           6.1          2.6           5.6          1.4\n",
       "135           7.7          3.0           6.1          2.3\n",
       "136           6.3          3.4           5.6          2.4\n",
       "137           6.4          3.1           5.5          1.8\n",
       "138           6.0          3.0           4.8          1.8\n",
       "139           6.9          3.1           5.4          2.1\n",
       "140           6.7          3.1           5.6          2.4\n",
       "141           6.9          3.1           5.1          2.3\n",
       "142           5.8          2.7           5.1          1.9\n",
       "143           6.8          3.2           5.9          2.3\n",
       "144           6.7          3.3           5.7          2.5\n",
       "145           6.7          3.0           5.2          2.3\n",
       "146           6.3          2.5           5.0          1.9\n",
       "147           6.5          3.0           5.2          2.0\n",
       "148           6.2          3.4           5.4          2.3\n",
       "149           5.9          3.0           5.1          1.8\n",
       "\n",
       "[150 rows x 4 columns]"
      ]
     },
     "execution_count": 32,
     "metadata": {},
     "output_type": "execute_result"
    }
   ],
   "source": [
    "X"
   ]
  },
  {
   "cell_type": "code",
   "execution_count": 33,
   "metadata": {
    "collapsed": true
   },
   "outputs": [],
   "source": [
    "from sklearn.ensemble import RandomForestClassifier  # ensemble is a package that uses multiple ml algorithms[ random forest uses multiple decision trees]\n",
    "clf =RandomForestClassifier(n_estimators=100) # create 100 decision trees \n",
    "clf.fit(X_train,y_train)\n",
    "y_pred=clf.predict(X_test)"
   ]
  },
  {
   "cell_type": "code",
   "execution_count": 34,
   "metadata": {},
   "outputs": [
    {
     "name": "stdout",
     "output_type": "stream",
     "text": [
      "Accuracy 0.9777777777777777\n"
     ]
    }
   ],
   "source": [
    "from sklearn import metrics\n",
    "print('Accuracy',metrics.accuracy_score(y_test,y_pred))"
   ]
  },
  {
   "cell_type": "code",
   "execution_count": 35,
   "metadata": {},
   "outputs": [
    {
     "data": {
      "text/plain": [
       "array([1])"
      ]
     },
     "execution_count": 35,
     "metadata": {},
     "output_type": "execute_result"
    }
   ],
   "source": [
    "clf.predict([[3,5,4,2]])"
   ]
  },
  {
   "cell_type": "code",
   "execution_count": 36,
   "metadata": {},
   "outputs": [
    {
     "data": {
      "text/plain": [
       "sepal length (cm)    0.093515\n",
       "sepal width (cm)     0.020494\n",
       "petal length (cm)    0.438483\n",
       "petal width (cm)     0.447508\n",
       "dtype: float64"
      ]
     },
     "execution_count": 36,
     "metadata": {},
     "output_type": "execute_result"
    }
   ],
   "source": [
    "features_imp=pd.Series(clf.feature_importances_,index=iris.feature_names)\n",
    "features_imp"
   ]
  },
  {
   "cell_type": "code",
   "execution_count": 37,
   "metadata": {},
   "outputs": [
    {
     "data": {
      "image/png": "[encoded data removed]",
      "text/plain": [
       "<Figure size 432x288 with 1 Axes>"
      ]
     },
     "metadata": {},
     "output_type": "display_data"
    }
   ],
   "source": [
    "sb.barplot(x=features_imp,y=features_imp.index)\n",
    "plt.xlabel('Features imortance Score')\n",
    "plt.ylabel('Features')\n",
    "plt.title('Visualizing important features')\n",
    "plt.show()"
   ]
  },
  {
   "cell_type": "code",
   "execution_count": 41,
   "metadata": {
    "collapsed": true
   },
   "outputs": [],
   "source": [
    "from sklearn.metrics import roc_curve\n",
    "from sklearn.metrics import roc_auc_score\n",
    "\n",
    "def plot_roc_curve(fpr,tpr):\n",
    "    plt.plot(fpr,tpr,color='orange',label='ROC')\n",
    "    plt.plot([0,1],[0,1],color='darkblue',linestyle='--')\n",
    "    plt.xlabel('False positive rate')\n",
    "    plt.ylabel('True positive rate')\n",
    "    plt.title('ROC curve')\n",
    "    plt.legend()\n",
    "    plt.show()"
   ]
  },
  {
   "cell_type": "code",
   "execution_count": 43,
   "metadata": {},
   "outputs": [
    {
     "data": {
      "text/plain": [
       "array([[0.  , 0.  , 1.  ],\n",
       "       [0.  , 0.98, 0.02],\n",
       "       [0.99, 0.01, 0.  ],\n",
       "       [0.  , 0.  , 1.  ],\n",
       "       [1.  , 0.  , 0.  ],\n",
       "       [0.  , 0.  , 1.  ],\n",
       "       [1.  , 0.  , 0.  ],\n",
       "       [0.  , 1.  , 0.  ],\n",
       "       [0.  , 0.91, 0.09],\n",
       "       [0.  , 1.  , 0.  ],\n",
       "       [0.  , 0.31, 0.69],\n",
       "       [0.  , 0.99, 0.01],\n",
       "       [0.  , 1.  , 0.  ],\n",
       "       [0.  , 0.97, 0.03],\n",
       "       [0.  , 1.  , 0.  ],\n",
       "       [1.  , 0.  , 0.  ],\n",
       "       [0.  , 0.94, 0.06],\n",
       "       [0.  , 0.99, 0.01],\n",
       "       [1.  , 0.  , 0.  ],\n",
       "       [1.  , 0.  , 0.  ],\n",
       "       [0.  , 0.2 , 0.8 ],\n",
       "       [0.  , 0.94, 0.06],\n",
       "       [1.  , 0.  , 0.  ],\n",
       "       [1.  , 0.  , 0.  ],\n",
       "       [0.  , 0.22, 0.78],\n",
       "       [1.  , 0.  , 0.  ],\n",
       "       [1.  , 0.  , 0.  ],\n",
       "       [0.  , 1.  , 0.  ],\n",
       "       [0.01, 0.96, 0.03],\n",
       "       [1.  , 0.  , 0.  ],\n",
       "       [0.  , 0.  , 1.  ],\n",
       "       [0.03, 0.87, 0.1 ],\n",
       "       [1.  , 0.  , 0.  ],\n",
       "       [0.  , 0.16, 0.84],\n",
       "       [0.  , 0.  , 1.  ],\n",
       "       [0.  , 0.98, 0.02],\n",
       "       [0.98, 0.02, 0.  ],\n",
       "       [0.  , 0.19, 0.81],\n",
       "       [0.  , 0.95, 0.05],\n",
       "       [0.  , 1.  , 0.  ],\n",
       "       [0.  , 0.  , 1.  ],\n",
       "       [1.  , 0.  , 0.  ],\n",
       "       [0.  , 0.01, 0.99],\n",
       "       [1.  , 0.  , 0.  ],\n",
       "       [1.  , 0.  , 0.  ]])"
      ]
     },
     "execution_count": 43,
     "metadata": {},
     "output_type": "execute_result"
    }
   ],
   "source": [
    "probs=clf.predict_proba(X_test)\n",
    "probs\n"
   ]
  },
  {
   "cell_type": "code",
   "execution_count": null,
   "metadata": {},
   "outputs": [],
   "source": []
  },
  {
   "cell_type": "code",
   "execution_count": null,
   "metadata": {},
   "outputs": [],
   "source": []
  },
  {
   "cell_type": "code",
   "execution_count": null,
   "metadata": {
    "collapsed": true
   },
   "outputs": [],
   "source": []
  }
 ],
 "metadata": {
  "kernelspec": {
   "display_name": "Python 3",
   "language": "python",
   "name": "python3"
  },
  "language_info": {
   "codemirror_mode": {
    "name": "ipython",
    "version": 3
   },
   "file_extension": ".py",
   "mimetype": "text/x-python",
   "name": "python",
   "nbconvert_exporter": "python",
   "pygments_lexer": "ipython3",
   "version": "3.6.3"
  }
 },
 "nbformat": 4,
 "nbformat_minor": 2
}
